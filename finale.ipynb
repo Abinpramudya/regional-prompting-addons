{
 "cells": [
  {
   "cell_type": "code",
   "execution_count": 42,
   "metadata": {},
   "outputs": [
    {
     "name": "stderr",
     "output_type": "stream",
     "text": [
      "Exception in Tkinter callback\n",
      "Traceback (most recent call last):\n",
      "  File \"c:\\Users\\abinp\\AppData\\Local\\Programs\\Python\\Python311\\Lib\\tkinter\\__init__.py\", line 1948, in __call__\n",
      "    return self.func(*args)\n",
      "           ^^^^^^^^^^^^^^^^\n",
      "  File \"C:\\Users\\abinp\\AppData\\Local\\Temp\\ipykernel_32108\\2234817181.py\", line 23, in separate_canvas\n",
      "    col_specs = [float(spec) if \",\" not in spec or len(column_specs) < 2 else sum([float(w) for w in spec.split(\",\")])/len(spec.split(\",\")) for spec in column_specs ]\n",
      "                ^^^^^^^^^^^^^^^^^^^^^^^^^^^^^^^^^^^^^^^^^^^^^^^^^^^^^^^^^^^^^^^^^^^^^^^^^^^^^^^^^^^^^^^^^^^^^^^^^^^^^^^^^^^^^^^^^^^^^^^^^^^^^^^^^^^^^^^^^^^^^^^^^^^^^^\n",
      "  File \"C:\\Users\\abinp\\AppData\\Local\\Temp\\ipykernel_32108\\2234817181.py\", line 23, in <listcomp>\n",
      "    col_specs = [float(spec) if \",\" not in spec or len(column_specs) < 2 else sum([float(w) for w in spec.split(\",\")])/len(spec.split(\",\")) for spec in column_specs ]\n",
      "                 ^^^^^^^^^^^\n",
      "ValueError: could not convert string to float: '1,5'\n"
     ]
    }
   ],
   "source": [
    "import random\n",
    "import tkinter as tk\n",
    "from PIL import Image, ImageTk ,  ImageDraw\n",
    "\n",
    "width = 1000\n",
    "height = 600\n",
    "\n",
    "root = tk.Tk()\n",
    "root.title(\"canvas\")\n",
    "\n",
    "# Create the canvas\n",
    "canvas = tk.Canvas(root, width=width, height=height, bg=\"white\")\n",
    "canvas.pack()\n",
    "\n",
    "# Create input for column and row specifications\n",
    "input_label = tk.Label(root, text=\"Enter column and row specifications (e.g., 1,1,1;1;1):\")\n",
    "input_label.pack()\n",
    "input_field = tk.Entry(root)\n",
    "input_field.pack()\n",
    "\n",
    "def separate_canvas():\n",
    "    column_specs = input_field.get().split(\";\")\n",
    "    # print('column specs:',column_specs)\n",
    "    x = 0\n",
    "    col_specs = [float(spec) if \",\" not in spec or len(column_specs) < 2 else sum([float(w) for w in spec.split(\",\")])/len(spec.split(\",\")) for spec in column_specs]\n",
    "    print('col specs:',col_specs)\n",
    "    a = 1\n",
    "    for i, spec in enumerate(column_specs):\n",
    "        print(a)\n",
    "        weights = [float(w) for w in spec.split(\",\")]\n",
    "        y = 0\n",
    "        if len(weights[1:]) > 1:  # Check if there is more than one weight in the column\n",
    "            current_y = 0\n",
    "            total_weight = sum(weights[1:])\n",
    "\n",
    "            for weight in weights[1:]:\n",
    "                sub_column_height = float((height * weight) / total_weight)\n",
    "                # print(\"current weight\",total_weight)\n",
    "                # print(\"current height\",sub_column_height)\n",
    "                print('halo ini skenario A')\n",
    "                column_height = sub_column_height\n",
    "                current_y += sub_column_height\n",
    "        else:\n",
    "            column_height = height\n",
    "            # print('halo ini seknario B')\n",
    "\n",
    "        weight = weights[0]\n",
    "        column_width = int((width * weight) / sum(float(w) for w in col_specs))  # Convert to float before sum\n",
    "        print('col width:',column_width)\n",
    "        print('something:', sum(float(w) for w in col_specs))\n",
    "\n",
    "        row_color = f\"#{random.randint(0, 0xFFFFFF):06x}\"\n",
    "        canvas.create_rectangle(x, y, x + column_width, y + column_height, fill=row_color)\n",
    "        canvas.create_text(x + column_width // 2, y + column_height // 2, text=f\"Column {0}-{+1}\", fill=\"black\")\n",
    "             \n",
    "        x += column_width\n",
    "        a += 1\n",
    "    print('-----')\n",
    "    # print('finale !')\n",
    "        # print(\"y:\",y)\n",
    "\n",
    "# Create a button to submit changes\n",
    "submit_button = tk.Button(root, text=\"Submit\", command=separate_canvas)\n",
    "submit_button.pack()\n",
    "\n",
    "# Run the Tkinter main loop\n",
    "root.mainloop()"
   ]
  }
 ],
 "metadata": {
  "kernelspec": {
   "display_name": "Python 3",
   "language": "python",
   "name": "python3"
  },
  "language_info": {
   "codemirror_mode": {
    "name": "ipython",
    "version": 3
   },
   "file_extension": ".py",
   "mimetype": "text/x-python",
   "name": "python",
   "nbconvert_exporter": "python",
   "pygments_lexer": "ipython3",
   "version": "3.11.0"
  }
 },
 "nbformat": 4,
 "nbformat_minor": 2
}
