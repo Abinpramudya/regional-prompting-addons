{
 "cells": [
  {
   "cell_type": "code",
   "execution_count": 2,
   "metadata": {},
   "outputs": [],
   "source": [
    "import random\n",
    "import tkinter as tk\n",
    "from PIL import Image, ImageTk ,  ImageDraw"
   ]
  },
  {
   "cell_type": "code",
   "execution_count": 3,
   "metadata": {},
   "outputs": [
    {
     "name": "stdout",
     "output_type": "stream",
     "text": [
      "Image resolution: 960 x 512 pixels\n"
     ]
    }
   ],
   "source": [
    "# Specify the path to your image file\n",
    "image_path = \"images.png\"  # Replace with the actual path\n",
    "\n",
    "# Create the main window\n",
    "root = tk.Tk()\n",
    "root.title(\"Image Viewer\")\n",
    "\n",
    "# Open the image using Pillow\n",
    "try:\n",
    "    image = Image.open(image_path)\n",
    "\n",
    "    # Get the image's width and height\n",
    "    width, height = image.size\n",
    "\n",
    "    # Display the resolution\n",
    "    print(\"Image resolution:\", width, \"x\", height, \"pixels\")\n",
    "\n",
    "    # Convert the image to a Tkinter-compatible format\n",
    "    photo = ImageTk.PhotoImage(image)\n",
    "\n",
    "    # Create a label to display the image\n",
    "    label = tk.Label(root, image=photo)\n",
    "    label.pack()\n",
    "\n",
    "    # Run the Tkinter main loop\n",
    "    root.mainloop()\n",
    "\n",
    "except FileNotFoundError:\n",
    "    print(\"Error: Image file not found. Please check the path and try again.\")"
   ]
  },
  {
   "cell_type": "markdown",
   "metadata": {},
   "source": [
    "### algoritma rani"
   ]
  },
  {
   "cell_type": "code",
   "execution_count": 103,
   "metadata": {},
   "outputs": [
    {
     "name": "stdout",
     "output_type": "stream",
     "text": [
      "[2.0, 1.0, 1.5]\n",
      "xs: [266, 399]\n",
      "ys: [266, 399]\n",
      "coord: [(0, 200.0), (266, 200.0), (399, 266), (399, 399)]\n",
      "([266, 399], [266, 399], [(0, 200.0), (266, 200.0), (399, 266), (399, 399)])\n"
     ]
    }
   ],
   "source": [
    "def separate_canvas(input_field):\n",
    "    column_specs = input_field.split(\";\")\n",
    "    x = 0\n",
    "    xs = []\n",
    "    ys = []\n",
    "    coord = []\n",
    "    col_specs = [float(spec) if \",\" not in spec else sum([float(w) for w in spec.split(\",\")])/len(spec.split(\",\")) for spec in column_specs ]\n",
    "    print(col_specs)\n",
    "\n",
    "    for i, spec in enumerate(column_specs):\n",
    "        weights = [float(w) for w in spec.split(\",\")]\n",
    "\n",
    "        if len(weights) > 1:  # Check if there is more than one weight in the column\n",
    "            total_weight = sum(weights)\n",
    "            current_y = 0\n",
    "\n",
    "            for weight in weights:\n",
    "                sub_column_height = int((height * weight) / total_weight)\n",
    "                current_y += sub_column_height\n",
    "                ys.append(current_y)\n",
    "                coord.append((x, current_y))\n",
    "\n",
    "        else:\n",
    "            weight = weights[0]\n",
    "            column_width = int((width * weight) / sum(float(w) for w in col_specs))  # Convert to float before sum\n",
    "            xs.append(x+column_width)\n",
    "            coord.append((x, height/2))\n",
    "        \n",
    "        x += column_width\n",
    "\n",
    "    print('xs:',xs)\n",
    "    print('ys:',ys)\n",
    "    print('coord:',coord)\n",
    "    return xs, ys, coord\n",
    "\n",
    "print(separate_canvas('2;1;2,1'))"
   ]
  },
  {
   "cell_type": "code",
   "execution_count": 5,
   "metadata": {},
   "outputs": [],
   "source": [
    "# Create the main window\n",
    "root = tk.Tk()\n",
    "root.title(\"Image Canvas\")\n",
    "\n",
    "# Create the canvas\n",
    "canvas = tk.Canvas(root, width=width, height=height, bg=\"white\")\n",
    "canvas.pack()\n",
    "\n",
    "# Create input for column and row specifications\n",
    "input_label = tk.Label(root, text=\"Enter column and row specifications (e.g., 1,1,1;1;1):\")\n",
    "input_label.pack()\n",
    "input_field = tk.Entry(root)\n",
    "input_field.pack()\n",
    "\n",
    "# Define a function to handle canvas separation and coloring\n",
    "def separate_canvas():\n",
    "    column_rows = [spec.split(\",\") for spec in input_field.get().split(\";\")]\n",
    "    num_columns = len(column_rows)\n",
    "    column_width = width // num_columns\n",
    "\n",
    "    x = 0\n",
    "    for i, (row_specs, column_num) in enumerate(zip(column_rows, range(1, num_columns + 1))):\n",
    "        total_row_weight = sum(int(spec) for spec in row_specs)\n",
    "        row_height = height // total_row_weight  # Calculate row height based on weight\n",
    "\n",
    "            \n",
    "        y = 0\n",
    "        for j, row_weight in enumerate(row_specs):\n",
    "            row_color = f\"#{random.randint(0, 0xFFFFFF):06x}\"\n",
    "            canvas.create_rectangle(x, y, x + column_width, y + row_height, fill=row_color)\n",
    "            canvas.create_text(x + column_width // 2, y + row_height // 2, text=f\"Column {column_num}-{j+1}\", fill=\"black\")\n",
    "            y += row_height\n",
    "\n",
    "        x += column_width\n",
    "\n",
    "# Create a button to submit changes\n",
    "submit_button = tk.Button(root, text=\"Submit\", command=separate_canvas)\n",
    "submit_button.pack()\n",
    "\n",
    "# Run the Tkinter main loop\n",
    "root.mainloop()"
   ]
  },
  {
   "cell_type": "markdown",
   "metadata": {},
   "source": [
    "## cleannn"
   ]
  },
  {
   "cell_type": "code",
   "execution_count": 90,
   "metadata": {},
   "outputs": [],
   "source": [
    "\n",
    "# Create the main window\n",
    "root = tk.Tk()\n",
    "root.title(\"Image Canvas\")\n",
    "\n",
    "# Create the canvas\n",
    "canvas = tk.Canvas(root, width=width, height=height, bg=\"white\")\n",
    "canvas.pack()\n",
    "\n",
    "# Create input for column specifications\n",
    "input_label = tk.Label(root, text=\"Enter column specifications (e.g., 1;2;1):\")\n",
    "input_label.pack()\n",
    "input_field = tk.Entry(root)\n",
    "input_field.pack()\n",
    "\n",
    "def separate_canvas():\n",
    "    column_specs = [float(spec) for spec in input_field.get().split(\";\")]  # Convert to floats\n",
    "    total_weight = sum(column_specs)\n",
    "\n",
    "    x = 0\n",
    "    for i, weight in enumerate(column_specs):\n",
    "        column_width = int((width * weight) / total_weight)  # Adjust for floats\n",
    "        column_color = f\"#{random.randint(0, 0xFFFFFF):06x}\"\n",
    "        canvas.create_rectangle(x, 0, x + column_width, height, fill=column_color)\n",
    "        canvas.create_text(x + column_width // 2, height // 2, text=f\"Column {i + 1}\", fill=\"black\")\n",
    "        x += column_width\n",
    "\n",
    "# Create a button to submit changes\n",
    "submit_button = tk.Button(root, text=\"Submit\", command=separate_canvas)\n",
    "submit_button.pack()\n",
    "\n",
    "# Run the Tkinter main loop\n",
    "root.mainloop()\n"
   ]
  }
 ],
 "metadata": {
  "kernelspec": {
   "display_name": "Python 3",
   "language": "python",
   "name": "python3"
  },
  "language_info": {
   "codemirror_mode": {
    "name": "ipython",
    "version": 3
   },
   "file_extension": ".py",
   "mimetype": "text/x-python",
   "name": "python",
   "nbconvert_exporter": "python",
   "pygments_lexer": "ipython3",
   "version": "3.11.0"
  }
 },
 "nbformat": 4,
 "nbformat_minor": 2
}
