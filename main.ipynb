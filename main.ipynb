{
 "cells": [
  {
   "cell_type": "code",
   "execution_count": 2,
   "metadata": {},
   "outputs": [],
   "source": [
    "import random\n",
    "import tkinter as tk\n",
    "from PIL import Image, ImageTk ,  ImageDraw"
   ]
  },
  {
   "cell_type": "code",
   "execution_count": 3,
   "metadata": {},
   "outputs": [
    {
     "name": "stdout",
     "output_type": "stream",
     "text": [
      "Image resolution: 960 x 512 pixels\n"
     ]
    }
   ],
   "source": [
    "# Specify the path to your image file\n",
    "image_path = \"images.png\"  # Replace with the actual path\n",
    "\n",
    "# Create the main window\n",
    "root = tk.Tk()\n",
    "root.title(\"Image Viewer\")\n",
    "\n",
    "# Open the image using Pillow\n",
    "try:\n",
    "    image = Image.open(image_path)\n",
    "\n",
    "    # Get the image's width and height\n",
    "    width, height = image.size\n",
    "\n",
    "    # Display the resolution\n",
    "    print(\"Image resolution:\", width, \"x\", height, \"pixels\")\n",
    "\n",
    "    # Convert the image to a Tkinter-compatible format\n",
    "    photo = ImageTk.PhotoImage(image)\n",
    "\n",
    "    # Create a label to display the image\n",
    "    label = tk.Label(root, image=photo)\n",
    "    label.pack()\n",
    "\n",
    "    # Run the Tkinter main loop\n",
    "    root.mainloop()\n",
    "\n",
    "except FileNotFoundError:\n",
    "    print(\"Error: Image file not found. Please check the path and try again.\")"
   ]
  },
  {
   "cell_type": "code",
   "execution_count": 26,
   "metadata": {},
   "outputs": [],
   "source": [
    "import tkinter as tk\n",
    "import random\n",
    "\n",
    "# Create the main window\n",
    "root = tk.Tk()\n",
    "root.title(\"Image Canvas\")\n",
    "\n",
    "# Specify the canvas dimensions\n",
    "width = 800\n",
    "height = 400\n",
    "\n",
    "# Create the canvas\n",
    "canvas = tk.Canvas(root, width=width, height=height, bg=\"white\")\n",
    "canvas.pack()\n",
    "\n",
    "# Create input for column specifications\n",
    "input_label = tk.Label(root, text=\"Enter column specifications (e.g., 1;2;1,1):\")\n",
    "input_label.pack()\n",
    "input_field = tk.Entry(root)\n",
    "input_field.pack()\n",
    "\n",
    "def separate_canvas():\n",
    "    column_specs = input_field.get().split(\";\")\n",
    "    x = 0\n",
    "\n",
    "    for i, spec in enumerate(column_specs):\n",
    "        weights = [float(w) for w in spec.split(\",\")]\n",
    "\n",
    "        if len(weights) > 1:  # Check if there is more than one weight in the column\n",
    "            total_weight = sum(weights)\n",
    "            column_width = int((width * total_weight) / sum(float(w) for w in column_specs))  # Convert to float before sum\n",
    "            current_x = x\n",
    "\n",
    "            for weight in weights:\n",
    "                sub_column_width = int((column_width * weight) / total_weight)\n",
    "                column_color = f\"#{random.randint(0, 0xFFFFFF):06x}\"\n",
    "                canvas.create_rectangle(current_x, 0, current_x + sub_column_width, height, fill=column_color)\n",
    "                canvas.create_text(current_x + sub_column_width // 2, height // 2, text=f\"Column {i + 1}\", fill=\"black\")\n",
    "                current_x += sub_column_width\n",
    "\n",
    "        else:\n",
    "            weight = weights[0]\n",
    "            column_width = int((width * weight) / sum(float(w) for w in column_specs))  # Convert to float before sum\n",
    "            column_color = f\"#{random.randint(0, 0xFFFFFF):06x}\"\n",
    "            canvas.create_rectangle(x, 0, x + column_width, height, fill=column_color)\n",
    "            canvas.create_text(x + column_width // 2, height // 2, text=f\"Column {i + 1}\", fill=\"black\")\n",
    "\n",
    "        x += column_width\n",
    "\n",
    "# Create a button to submit changes\n",
    "submit_button = tk.Button(root, text=\"Submit\", command=separate_canvas)\n",
    "submit_button.pack()\n",
    "\n",
    "# Run the Tkinter main loop\n",
    "root.mainloop()\n"
   ]
  },
  {
   "cell_type": "markdown",
   "metadata": {},
   "source": [
    "## cleannn"
   ]
  },
  {
   "cell_type": "code",
   "execution_count": null,
   "metadata": {},
   "outputs": [],
   "source": [
    "\n",
    "# Create the main window\n",
    "root = tk.Tk()\n",
    "root.title(\"Image Canvas\")\n",
    "\n",
    "# Create the canvas\n",
    "canvas = tk.Canvas(root, width=width, height=height, bg=\"white\")\n",
    "canvas.pack()\n",
    "\n",
    "# Create input for column specifications\n",
    "input_label = tk.Label(root, text=\"Enter column specifications (e.g., 1;2;1):\")\n",
    "input_label.pack()\n",
    "input_field = tk.Entry(root)\n",
    "input_field.pack()\n",
    "\n",
    "def separate_canvas():\n",
    "    column_specs = [float(spec) for spec in input_field.get().split(\";\")]  # Convert to floats\n",
    "    total_weight = sum(column_specs)\n",
    "\n",
    "    x = 0\n",
    "    for i, weight in enumerate(column_specs):\n",
    "        column_width = int((width * weight) / total_weight)  # Adjust for floats\n",
    "        column_color = f\"#{random.randint(0, 0xFFFFFF):06x}\"\n",
    "        canvas.create_rectangle(x, 0, x + column_width, height, fill=column_color)\n",
    "        canvas.create_text(x + column_width // 2, height // 2, text=f\"Column {i + 1}\", fill=\"black\")\n",
    "        x += column_width\n",
    "\n",
    "# Create a button to submit changes\n",
    "submit_button = tk.Button(root, text=\"Submit\", command=separate_canvas)\n",
    "submit_button.pack()\n",
    "\n",
    "# Run the Tkinter main loop\n",
    "root.mainloop()\n"
   ]
  }
 ],
 "metadata": {
  "kernelspec": {
   "display_name": "Python 3",
   "language": "python",
   "name": "python3"
  },
  "language_info": {
   "codemirror_mode": {
    "name": "ipython",
    "version": 3
   },
   "file_extension": ".py",
   "mimetype": "text/x-python",
   "name": "python",
   "nbconvert_exporter": "python",
   "pygments_lexer": "ipython3",
   "version": "3.10.0"
  }
 },
 "nbformat": 4,
 "nbformat_minor": 2
}
